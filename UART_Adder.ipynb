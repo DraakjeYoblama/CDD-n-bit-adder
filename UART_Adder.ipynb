{
 "cells": [
  {
   "cell_type": "code",
   "execution_count": 1,
   "id": "38917734-f061-498f-a807-52dfd9da7fe1",
   "metadata": {},
   "outputs": [
    {
     "name": "stdout",
     "output_type": "stream",
     "text": [
      "COM8 - USB Serial Port (COM8)\n",
      "COM10 - USB-SERIAL CH340 (COM10)\n"
     ]
    }
   ],
   "source": [
    "import serial.tools.list_ports\n",
    "ports = list(serial.tools.list_ports.comports())\n",
    "for p in ports:\n",
    "    print(p)"
   ]
  },
  {
   "cell_type": "code",
   "execution_count": 2,
   "id": "10e78df6-6847-4593-acc5-21cdd028e1c9",
   "metadata": {},
   "outputs": [],
   "source": [
    "import serial\n",
    "ser = serial.Serial('COM10', 115200, timeout=10)"
   ]
  },
  {
   "cell_type": "markdown",
   "id": "16870d58-eaf1-45d6-9747-442f843f700e",
   "metadata": {},
   "source": [
    "Implement and validate the Echo design on the FPGA.\n",
    "\n",
    "You can use the following script to send a sequence of 12 bytes using Python:"
   ]
  },
  {
   "cell_type": "code",
   "execution_count": 18,
   "id": "e8282829-8703-4599-93b6-a5b569170c73",
   "metadata": {},
   "outputs": [
    {
     "data": {
      "text/plain": [
       "12"
      ]
     },
     "execution_count": 18,
     "metadata": {},
     "output_type": "execute_result"
    }
   ],
   "source": [
    "ser.write(b'ABCD EFGHI J')"
   ]
  },
  {
   "cell_type": "code",
   "execution_count": 19,
   "id": "65a8149d-8d11-4406-8751-7e29c350c3aa",
   "metadata": {},
   "outputs": [
    {
     "name": "stdout",
     "output_type": "stream",
     "text": [
      "b'ABCD EFGHI J'\n"
     ]
    }
   ],
   "source": [
    "print(ser.read(12))"
   ]
  },
  {
   "cell_type": "markdown",
   "id": "46b40142-a736-445e-a1b0-a0b898c86fcb",
   "metadata": {},
   "source": [
    "UPDATE! A common error in the implementation of UART RX is to keep it active for more than the duration of a UART frame, that is, more than 10*CLKS_PER_BIT.\n",
    "\n",
    "In the above script, Python is sending bytes immediately after each other. So if your UART RX is not back in sIDLE at the correct time, it may miss the start of the next byte being transmitted.\n",
    "\n",
    "This leads to an error in which the string that your receive in Python has the first character correct ('A'), but the remaining are erroneous (typically something like '\\xa1').\n",
    "\n",
    "To confirm whether this is the problem, you can test the Python code below which sends the bytes one by one, with a waiting in between:"
   ]
  },
  {
   "cell_type": "code",
   "execution_count": 11,
   "id": "5bf4e9ca-657d-4389-97b4-68f5f3eb17fd",
   "metadata": {},
   "outputs": [
    {
     "name": "stdout",
     "output_type": "stream",
     "text": [
      "b'\\xffABCD EFGHI '\n"
     ]
    }
   ],
   "source": [
    "import time \n",
    "tst_str = 'ABCD EFGHI J'\n",
    "tst_arr = str.encode(tst_str)\n",
    "\n",
    "for j in range(len(tst_arr)):\n",
    "    ser.write(tst_arr[j:j + 1])\n",
    "    time.sleep(0.001)\n",
    "\n",
    "print(ser.read(12))"
   ]
  },
  {
   "cell_type": "code",
   "execution_count": 15,
   "id": "619781c3-98d0-47a7-b1c8-bd309949b70a",
   "metadata": {},
   "outputs": [],
   "source": [
    "ser.close()"
   ]
  },
  {
   "cell_type": "markdown",
   "id": "e0a4c4a1-da38-42c1-8f81-71322f465a14",
   "metadata": {},
   "source": [
    "This code snippet creates two random operands (A,B) of length OPERAND_WIDTH"
   ]
  },
  {
   "cell_type": "code",
   "execution_count": 5,
   "id": "1b133c38-042f-45c3-b909-4e1339726a8d",
   "metadata": {},
   "outputs": [
    {
     "name": "stdout",
     "output_type": "stream",
     "text": [
      "A     =  0xc425bf2f1818e9fbd583377b95cab1393c5cb2a9df9320f1efbfaa742e009f1ca07a2211abb85c90d81e691611bf0c7393f5403f548ba3f9f84e3219bc7ae7e2\n",
      "B     =  0xfb55fb0a2c11f62d004ee43b039416a6ab96abbc8d4082e9a56fd7f9d084de73fe3406fa0a8239f799ceec0df5faf12249da63cbbc5db164eec919557c0a4b5a\n",
      "A + B =  0x1bf7bba39442ae028d5d21bb6995ec7dfe7f35e666cd3a3db952f826dfe857d909eae290bb63a968871ed552407b9fd95ddcfa40b10e9555ee7174b6f3885333c\n"
     ]
    }
   ],
   "source": [
    "import random\n",
    "import time\n",
    "\n",
    "OPERAND_WIDTH = 512\n",
    "\n",
    "N_BYTES = int(OPERAND_WIDTH/8)\n",
    "\n",
    "A = random.randrange(2**(OPERAND_WIDTH-1), 2**OPERAND_WIDTH-1)\n",
    "B = random.randrange(2**(OPERAND_WIDTH-1), 2**OPERAND_WIDTH-1)\n",
    "\n",
    "res = A + B\n",
    "\n",
    "print(\"A     = \", hex(A))\n",
    "print(\"B     = \", hex(B))\n",
    "print(\"A + B = \", hex(res))\n",
    "\n",
    "A_bytes = bytearray.fromhex(format(A, 'x'))\n",
    "B_bytes = bytearray.fromhex(format(B, 'x'))"
   ]
  },
  {
   "cell_type": "markdown",
   "id": "03e29db1-d57b-4dae-8b44-1bee99789e92",
   "metadata": {},
   "source": [
    "This code snippet sends the two operands (A,B) via the serial port, byte by byte. It then receives the result of the addition (length N_BYTES+1) and informs whether the received value matches the expected result."
   ]
  },
  {
   "cell_type": "code",
   "execution_count": 6,
   "id": "2b00fb29-b981-4770-87a4-c56935914f99",
   "metadata": {},
   "outputs": [
    {
     "name": "stdout",
     "output_type": "stream",
     "text": [
      "Result received correctly!\n",
      "Expected   =  0x1bf7bba39442ae028d5d21bb6995ec7dfe7f35e666cd3a3db952f826dfe857d909eae290bb63a968871ed552407b9fd95ddcfa40b10e9555ee7174b6f3885333c\n",
      "Received   =  0x1bf7bba39442ae028d5d21bb6995ec7dfe7f35e666cd3a3db952f826dfe857d909eae290bb63a968871ed552407b9fd95ddcfa40b10e9555ee7174b6f3885333c\n"
     ]
    }
   ],
   "source": [
    "for op_byte in A_bytes:\n",
    "    hex_byte = (\"{0:02x}\".format(op_byte))\n",
    "    ser.write(bytearray.fromhex(hex_byte))\n",
    "    time.sleep(0.001)\n",
    "\n",
    "for op_byte in B_bytes:\n",
    "    hex_byte = (\"{0:02x}\".format(op_byte))\n",
    "    ser.write(bytearray.fromhex(hex_byte))\n",
    "    time.sleep(0.001)\n",
    "\n",
    "res_rcvd = ser.read(N_BYTES+1) \n",
    "\n",
    "res2 = int.from_bytes(res_rcvd, \"big\")\n",
    "\n",
    "if res2==res:\n",
    "    print(\"Result received correctly!\")\n",
    "    print(\"Expected   = \", hex(res))\n",
    "    print(\"Received   = \", hex(res2))\n",
    "else:\n",
    "    print(\"Result INCORRECT!\")\n",
    "    print(\"Expected   = \", hex(res))\n",
    "    print(\"Received   = \", hex(res2))"
   ]
  },
  {
   "cell_type": "code",
   "execution_count": null,
   "id": "96dbbedd-22a0-4995-9773-60fbb8a25fb0",
   "metadata": {},
   "outputs": [],
   "source": []
  }
 ],
 "metadata": {
  "kernelspec": {
   "display_name": "Python 3 (ipykernel)",
   "language": "python",
   "name": "python3"
  },
  "language_info": {
   "codemirror_mode": {
    "name": "ipython",
    "version": 3
   },
   "file_extension": ".py",
   "mimetype": "text/x-python",
   "name": "python",
   "nbconvert_exporter": "python",
   "pygments_lexer": "ipython3",
   "version": "3.11.7"
  }
 },
 "nbformat": 4,
 "nbformat_minor": 5
}
